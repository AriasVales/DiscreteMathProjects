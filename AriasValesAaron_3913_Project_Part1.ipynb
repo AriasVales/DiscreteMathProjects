{
  "nbformat": 4,
  "nbformat_minor": 0,
  "metadata": {
    "colab": {
      "provenance": [],
      "authorship_tag": "ABX9TyPunxZqJFtGcIIqTsJNxJPe",
      "include_colab_link": true
    },
    "kernelspec": {
      "name": "python3",
      "display_name": "Python 3"
    },
    "language_info": {
      "name": "python"
    }
  },
  "cells": [
    {
      "cell_type": "markdown",
      "metadata": {
        "id": "view-in-github",
        "colab_type": "text"
      },
      "source": [
        "<a href=\"https://colab.research.google.com/github/AriasVales/DiscreteMathProjects/blob/main/AriasValesAaron_3913_Project_Part1.ipynb\" target=\"_parent\"><img src=\"https://colab.research.google.com/assets/colab-badge.svg\" alt=\"Open In Colab\"/></a>"
      ]
    },
    {
      "cell_type": "markdown",
      "source": [
        "# Project Part #1 : CPSMA 3913 (Dr. Lynam)\n",
        "Discrete Mathematics\n",
        "\n",
        "# DnD Weapons I would use for different classes #\n",
        "\n",
        "# A. Arias Vales 278816 #"
      ],
      "metadata": {
        "id": "W-SfsL6HD_1S"
      }
    },
    {
      "cell_type": "markdown",
      "source": [
        "Section 1\n",
        "Weapons I see fesable for each class of character. My judgements are made off of logic.\n",
        "I went against my better judgement because I went with a rouge this last character build. This was my inspiration for this project."
      ],
      "metadata": {
        "id": "bPsuvZVoHvWM"
      }
    },
    {
      "cell_type": "code",
      "execution_count": null,
      "metadata": {
        "id": "sXYGSjeSD4Nl"
      },
      "outputs": [],
      "source": [
        "# set A\n",
        "paladinWeapons = {'shortsword', 'greataxe', 'mace', 'greatsword', 'warhammer', 'longbow'}\n",
        "# set B\n",
        "fighterWeapons = {'greataxe', 'longbow', 'glaive', 'lance', 'shortsword', 'dagger'}\n",
        "# set C\n",
        "rangerWeapons = {'dagger', 'shortbow', 'longbow', 'lightcrossbow', 'dart', 'sling'}\n",
        "# set U\n",
        "masterWeaponsList = {'shortsword', 'dagger', 'bow', 'greataxe', 'mace', 'greatsword', 'warhammer', 'longbow', 'javelin', 'glaive', 'lance', 'longsword', 'lightcrossbow', 'shortbow', 'sling', 'stave', 'quarterstaff', 'wand', 'nunchaku', 'sai', 'dart'}\n"
      ]
    },
    {
      "cell_type": "markdown",
      "source": [
        "Section 2 I will test the functions of the unions between the sets!\n",
        "This section should give a list of elements that are in either set. I also change the order in which the sets are first. Showing that no matter which set is placed first data is displayed the same. I also included the print function."
      ],
      "metadata": {
        "id": "Zbsaqp-7QVvS"
      }
    },
    {
      "cell_type": "code",
      "source": [
        "A_union_B = paladinWeapons.union(fighterWeapons)\n",
        "print(A_union_B)\n",
        "A_union_C = paladinWeapons.union(rangerWeapons)\n",
        "print(A_union_C)\n",
        "B_union_C = fighterWeapons.union(rangerWeapons)\n",
        "print(B_union_C)\n",
        "B_union_A = fighterWeapons.union(paladinWeapons)\n",
        "print(B_union_A,A_union_B)\n",
        "C_union_A = rangerWeapons.union(paladinWeapons)\n",
        "print(C_union_A)\n",
        "C_union_B = rangerWeapons.union(fighterWeapons)"
      ],
      "metadata": {
        "id": "iFhjanNEQuMr"
      },
      "execution_count": null,
      "outputs": []
    },
    {
      "cell_type": "markdown",
      "source": [
        "Section 3 I will test the functions of the intersections between each set. The intersection between sets should show elements that each set has in common. Again I display that order does not matter, the data will display reguardless of order."
      ],
      "metadata": {
        "id": "386G0iV-S_t6"
      }
    },
    {
      "cell_type": "code",
      "source": [
        "A_intersection_B = paladinWeapons.intersection (fighterWeapons)\n",
        "print(A_intersection_B)\n",
        "A_intersection_C = paladinWeapons. intersection (rangerWeapons)\n",
        "print(A_intersection_C)\n",
        "B_intersection_C = fighterWeapons. intersection(rangerWeapons)\n",
        "print(B_intersection_C)\n",
        "B_intersection_A = fighterWeapons. intersection (paladinWeapons)\n",
        "print(B_intersection_C)\n",
        "C_intersection_B = rangerWeapons.intersection (fighterWeapons)\n",
        "print(C_intersection_B)\n",
        "C_intersection_A = rangerWeapons.intersection (paladinWeapons)\n",
        "print(C_intersection_A)\n"
      ],
      "metadata": {
        "id": "9-6gF6gjWODb"
      },
      "execution_count": null,
      "outputs": []
    },
    {
      "cell_type": "markdown",
      "source": [
        "Section 4 Here I will computer completements between all three sets. These will display a set of elements that are not included in each class set from the universal set. I also am checking to see if each set is a subset of the masterWeaponList. If there are any subsets it will print the work \"true\"."
      ],
      "metadata": {
        "id": "4bDBBKywYLnP"
      }
    },
    {
      "cell_type": "code",
      "source": [
        "A_complement = masterWeaponsList.difference(paladinWeapons)\n",
        "print(A_complement)\n",
        "B_complement = masterWeaponsList.difference(fighterWeapons)\n",
        "print(B_complement)\n",
        "C_complement = masterWeaponsList.difference(rangerWeapons)\n",
        "print(C_complement)\n",
        "print(paladinWeapons.issubset(masterWeaponsList))\n",
        "print(fighterWeapons.issubset(masterWeaponsList))\n",
        "print(rangerWeapons.issubset(masterWeaponsList))"
      ],
      "metadata": {
        "id": "lKyNBP5iYLCU"
      },
      "execution_count": null,
      "outputs": []
    },
    {
      "cell_type": "markdown",
      "source": [
        "Section 5 Here I will compute a power set for paladinWeapons. The power set is a set which includes all the subsets including the empty set and the original set itself."
      ],
      "metadata": {
        "id": "Qq57x40scUWp"
      }
    },
    {
      "cell_type": "code",
      "source": [
        "from itertools import chain, combinations\n",
        "\n",
        "def powerset(iterable):\n",
        "    s = list(iterable)\n",
        "    return chain.from_iterable(combinations(s, r) for r in range(len(s)+1))\n",
        "\n",
        "A_power_set = set(powerset(paladinWeapons))\n",
        "print(A_power_set)\n"
      ],
      "metadata": {
        "colab": {
          "base_uri": "https://localhost:8080/"
        },
        "id": "BWe8Hig2cg6p",
        "outputId": "01798b4e-678d-4f3d-9cc2-1ca7d7144f07"
      },
      "execution_count": null,
      "outputs": [
        {
          "output_type": "stream",
          "name": "stdout",
          "text": [
            "{('warhammer', 'longbow', 'shortsword'), ('greataxe', 'longbow', 'greatsword', 'shortsword'), ('warhammer',), ('warhammer', 'greatsword', 'shortsword'), ('greataxe', 'warhammer', 'longbow', 'mace'), ('warhammer', 'longbow', 'greatsword'), ('warhammer', 'longbow', 'mace', 'shortsword'), ('greataxe', 'warhammer', 'greatsword', 'mace'), ('greataxe', 'warhammer', 'longbow', 'greatsword', 'mace', 'shortsword'), ('greataxe', 'mace', 'shortsword'), ('greatsword', 'mace', 'shortsword'), ('shortsword',), ('longbow', 'mace', 'shortsword'), ('greataxe', 'longbow', 'greatsword', 'mace', 'shortsword'), ('greataxe', 'warhammer', 'longbow', 'greatsword', 'mace'), ('greatsword',), ('warhammer', 'longbow', 'mace'), ('longbow',), ('greataxe', 'longbow', 'greatsword', 'mace'), ('warhammer', 'longbow', 'greatsword', 'shortsword'), ('greataxe', 'warhammer'), ('greatsword', 'shortsword'), ('warhammer', 'greatsword', 'mace'), ('greataxe', 'greatsword', 'mace', 'shortsword'), ('greataxe', 'warhammer', 'greatsword', 'mace', 'shortsword'), ('longbow', 'shortsword'), ('longbow', 'greatsword', 'shortsword'), ('warhammer', 'greatsword', 'mace', 'shortsword'), ('greataxe', 'shortsword'), ('warhammer', 'longbow', 'greatsword', 'mace', 'shortsword'), ('greataxe', 'greatsword'), ('longbow', 'greatsword'), ('greataxe', 'longbow', 'shortsword'), ('mace',), ('greataxe', 'greatsword', 'shortsword'), ('greataxe', 'longbow'), ('greatsword', 'mace'), ('greataxe',), ('warhammer', 'shortsword'), ('greataxe', 'longbow', 'greatsword'), ('warhammer', 'greatsword'), ('greataxe', 'warhammer', 'shortsword'), ('warhammer', 'longbow', 'greatsword', 'mace'), ('longbow', 'mace'), ('warhammer', 'longbow'), ('greataxe', 'warhammer', 'greatsword'), ('longbow', 'greatsword', 'mace'), ('greataxe', 'mace'), ('greataxe', 'warhammer', 'longbow'), ('greataxe', 'warhammer', 'mace', 'shortsword'), ('greataxe', 'warhammer', 'longbow', 'mace', 'shortsword'), ('greataxe', 'longbow', 'mace'), ('longbow', 'greatsword', 'mace', 'shortsword'), ('greataxe', 'greatsword', 'mace'), ('greataxe', 'warhammer', 'longbow', 'shortsword'), ('warhammer', 'mace'), ('greataxe', 'warhammer', 'mace'), ('greataxe', 'longbow', 'mace', 'shortsword'), ('greataxe', 'warhammer', 'greatsword', 'shortsword'), ('warhammer', 'mace', 'shortsword'), ('greataxe', 'warhammer', 'longbow', 'greatsword'), ('greataxe', 'warhammer', 'longbow', 'greatsword', 'shortsword'), (), ('mace', 'shortsword')}\n"
          ]
        }
      ]
    }
  ]
}