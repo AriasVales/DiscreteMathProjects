{
  "nbformat": 4,
  "nbformat_minor": 0,
  "metadata": {
    "colab": {
      "provenance": [],
      "authorship_tag": "ABX9TyNNEwYQEwMjD/LeAjljUj8K",
      "include_colab_link": true
    },
    "kernelspec": {
      "name": "python3",
      "display_name": "Python 3"
    },
    "language_info": {
      "name": "python"
    }
  },
  "cells": [
    {
      "cell_type": "markdown",
      "metadata": {
        "id": "view-in-github",
        "colab_type": "text"
      },
      "source": [
        "<a href=\"https://colab.research.google.com/github/AriasVales/DiscreteMathProjects/blob/main/AriasValesAaron_DiscreteMath_Project7.ipynb\" target=\"_parent\"><img src=\"https://colab.research.google.com/assets/colab-badge.svg\" alt=\"Open In Colab\"/></a>"
      ]
    },
    {
      "cell_type": "markdown",
      "source": [
        "# Project Part # 7 : CPSMA 3133 Discrete Mathematics - Dr. Lynam\n",
        "\n",
        "## Logic\n",
        "\n",
        "### Aaron Arias Vales"
      ],
      "metadata": {
        "id": "Lg9H1Fn0OQSP"
      }
    },
    {
      "cell_type": "markdown",
      "source": [
        "Lets do some truth tables! I'll try to make this somewhat entertaining as well as relatable."
      ],
      "metadata": {
        "id": "6qThY_P2OaGd"
      }
    },
    {
      "cell_type": "code",
      "source": [
        "willGoToWork = True\n",
        "willEatLikeRaccoon = False\n",
        "willGetDistractedByKids = True\n",
        "willPlayGames = False\n",
        "willWifeAskIfSheIsAWormWillILoveHer = True\n",
        "willCookDinner = False\n",
        "willGetPaid = True\n",
        "willSleep8Hours = False\n"
      ],
      "metadata": {
        "id": "CMpJ7iZRO9jk"
      },
      "execution_count": 4,
      "outputs": []
    },
    {
      "cell_type": "markdown",
      "source": [
        "Okay so I've got some statements here enjoy them and laugh. I know you all are with me on the fifth statement. We've all been there. Ladies and the answer to that question we will always say yes. \n",
        "\n",
        "![image.png](data:image/png;base64,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)"
      ],
      "metadata": {
        "id": "AU1gsayWQN3_"
      }
    },
    {
      "cell_type": "markdown",
      "source": [
        "Lets try testing this stuff out now.  \n",
        "r∧p \n",
        "\n",
        "r∨¬q \n",
        "\n",
        "r⇒p"
      ],
      "metadata": {
        "id": "Rx-SlzSNQ1CO"
      }
    },
    {
      "cell_type": "code",
      "source": [
        "(willGoToWork) and (willGetPaid)"
      ],
      "metadata": {
        "colab": {
          "base_uri": "https://localhost:8080/"
        },
        "id": "cCVMqxkxROx8",
        "outputId": "78b80406-4bd4-4a8c-fcd5-da9140226215"
      },
      "execution_count": 5,
      "outputs": [
        {
          "output_type": "execute_result",
          "data": {
            "text/plain": [
              "True"
            ]
          },
          "metadata": {},
          "execution_count": 5
        }
      ]
    },
    {
      "cell_type": "markdown",
      "source": [
        "So the first one checks out lets keep going. Now for r∨¬q\n",
        "\n",
        "---\n",
        "\n"
      ],
      "metadata": {
        "id": "8V_8hGY7Rpvn"
      }
    },
    {
      "cell_type": "code",
      "source": [
        "(willCookDinner) or not(willGetDistractedByKids)"
      ],
      "metadata": {
        "colab": {
          "base_uri": "https://localhost:8080/"
        },
        "id": "wqIkLXHHRo7A",
        "outputId": "3d89a220-050e-4d82-aa21-458f3dae9b71"
      },
      "execution_count": 6,
      "outputs": [
        {
          "output_type": "execute_result",
          "data": {
            "text/plain": [
              "False"
            ]
          },
          "metadata": {},
          "execution_count": 6
        }
      ]
    },
    {
      "cell_type": "markdown",
      "source": [
        "So Far so good continuing on!\n",
        "r⇒p"
      ],
      "metadata": {
        "id": "D3Manu3hR4dP"
      }
    },
    {
      "cell_type": "code",
      "source": [
        "def implies(a,b):\n",
        "  return not(b) or a\n",
        "\n",
        "implies(willWifeAskIfSheIsAWormWillILoveHer,WillGoToWork)"
      ],
      "metadata": {
        "colab": {
          "base_uri": "https://localhost:8080/"
        },
        "id": "KAIV-FEFR7px",
        "outputId": "253003c3-48ab-4a16-f8ac-73f1a2486909"
      },
      "execution_count": 8,
      "outputs": [
        {
          "output_type": "execute_result",
          "data": {
            "text/plain": [
              "True"
            ]
          },
          "metadata": {},
          "execution_count": 8
        }
      ]
    },
    {
      "cell_type": "markdown",
      "source": [
        "Had to borrow this from the example from Dr. Jacob. Still having fun here so pushing forward to the truth table. "
      ],
      "metadata": {
        "id": "59LaSe4RSfZh"
      }
    },
    {
      "cell_type": "code",
      "source": [
        "values = [True,False]\n",
        "table = []\n",
        "\n",
        "for r in values:\n",
        "  for p in values:\n",
        "    for q in values: \n",
        "      row =[]\n",
        "      row.append(r)\n",
        "      row.append(p)\n",
        "      row.append(q)\n",
        "      row.append(not(r))\n",
        "      row.append(not(r) and p)\n",
        "      row.append(q and p)\n",
        "      row.append(implies(not(r) and p,q and p))\n",
        "      table.append(row)"
      ],
      "metadata": {
        "id": "2_Lib9ccSmMx"
      },
      "execution_count": 9,
      "outputs": []
    },
    {
      "cell_type": "code",
      "source": [
        "import pandas as pd\n",
        "\n",
        "df = pd.DataFrame(table,columns = ['r','p','q','$r \\oplus p$','$\\lnot (r \\oplus p)$',r'$p\\land q$','$\\lnot (r \\oplus p) \\Rightarrow (p \\land q)$'] )\n",
        "df"
      ],
      "metadata": {
        "colab": {
          "base_uri": "https://localhost:8080/",
          "height": 300
        },
        "id": "XcThEcMrStia",
        "outputId": "2301964a-11ae-438e-fa1d-25b76551307c"
      },
      "execution_count": 10,
      "outputs": [
        {
          "output_type": "execute_result",
          "data": {
            "text/plain": [
              "       r      p      q  $r \\oplus p$  $\\lnot (r \\oplus p)$  $p\\land q$  \\\n",
              "0   True   True   True         False                 False        True   \n",
              "1   True   True  False         False                 False       False   \n",
              "2   True  False   True         False                 False       False   \n",
              "3   True  False  False         False                 False       False   \n",
              "4  False   True   True          True                  True        True   \n",
              "5  False   True  False          True                  True       False   \n",
              "6  False  False   True          True                 False       False   \n",
              "7  False  False  False          True                 False       False   \n",
              "\n",
              "   $\\lnot (r \\oplus p) \\Rightarrow (p \\land q)$  \n",
              "0                                         False  \n",
              "1                                          True  \n",
              "2                                          True  \n",
              "3                                          True  \n",
              "4                                          True  \n",
              "5                                          True  \n",
              "6                                          True  \n",
              "7                                          True  "
            ],
            "text/html": [
              "\n",
              "  <div id=\"df-d9bcd2bd-af71-4b1b-b0c1-b511d5a813ec\">\n",
              "    <div class=\"colab-df-container\">\n",
              "      <div>\n",
              "<style scoped>\n",
              "    .dataframe tbody tr th:only-of-type {\n",
              "        vertical-align: middle;\n",
              "    }\n",
              "\n",
              "    .dataframe tbody tr th {\n",
              "        vertical-align: top;\n",
              "    }\n",
              "\n",
              "    .dataframe thead th {\n",
              "        text-align: right;\n",
              "    }\n",
              "</style>\n",
              "<table border=\"1\" class=\"dataframe\">\n",
              "  <thead>\n",
              "    <tr style=\"text-align: right;\">\n",
              "      <th></th>\n",
              "      <th>r</th>\n",
              "      <th>p</th>\n",
              "      <th>q</th>\n",
              "      <th>$r \\oplus p$</th>\n",
              "      <th>$\\lnot (r \\oplus p)$</th>\n",
              "      <th>$p\\land q$</th>\n",
              "      <th>$\\lnot (r \\oplus p) \\Rightarrow (p \\land q)$</th>\n",
              "    </tr>\n",
              "  </thead>\n",
              "  <tbody>\n",
              "    <tr>\n",
              "      <th>0</th>\n",
              "      <td>True</td>\n",
              "      <td>True</td>\n",
              "      <td>True</td>\n",
              "      <td>False</td>\n",
              "      <td>False</td>\n",
              "      <td>True</td>\n",
              "      <td>False</td>\n",
              "    </tr>\n",
              "    <tr>\n",
              "      <th>1</th>\n",
              "      <td>True</td>\n",
              "      <td>True</td>\n",
              "      <td>False</td>\n",
              "      <td>False</td>\n",
              "      <td>False</td>\n",
              "      <td>False</td>\n",
              "      <td>True</td>\n",
              "    </tr>\n",
              "    <tr>\n",
              "      <th>2</th>\n",
              "      <td>True</td>\n",
              "      <td>False</td>\n",
              "      <td>True</td>\n",
              "      <td>False</td>\n",
              "      <td>False</td>\n",
              "      <td>False</td>\n",
              "      <td>True</td>\n",
              "    </tr>\n",
              "    <tr>\n",
              "      <th>3</th>\n",
              "      <td>True</td>\n",
              "      <td>False</td>\n",
              "      <td>False</td>\n",
              "      <td>False</td>\n",
              "      <td>False</td>\n",
              "      <td>False</td>\n",
              "      <td>True</td>\n",
              "    </tr>\n",
              "    <tr>\n",
              "      <th>4</th>\n",
              "      <td>False</td>\n",
              "      <td>True</td>\n",
              "      <td>True</td>\n",
              "      <td>True</td>\n",
              "      <td>True</td>\n",
              "      <td>True</td>\n",
              "      <td>True</td>\n",
              "    </tr>\n",
              "    <tr>\n",
              "      <th>5</th>\n",
              "      <td>False</td>\n",
              "      <td>True</td>\n",
              "      <td>False</td>\n",
              "      <td>True</td>\n",
              "      <td>True</td>\n",
              "      <td>False</td>\n",
              "      <td>True</td>\n",
              "    </tr>\n",
              "    <tr>\n",
              "      <th>6</th>\n",
              "      <td>False</td>\n",
              "      <td>False</td>\n",
              "      <td>True</td>\n",
              "      <td>True</td>\n",
              "      <td>False</td>\n",
              "      <td>False</td>\n",
              "      <td>True</td>\n",
              "    </tr>\n",
              "    <tr>\n",
              "      <th>7</th>\n",
              "      <td>False</td>\n",
              "      <td>False</td>\n",
              "      <td>False</td>\n",
              "      <td>True</td>\n",
              "      <td>False</td>\n",
              "      <td>False</td>\n",
              "      <td>True</td>\n",
              "    </tr>\n",
              "  </tbody>\n",
              "</table>\n",
              "</div>\n",
              "      <button class=\"colab-df-convert\" onclick=\"convertToInteractive('df-d9bcd2bd-af71-4b1b-b0c1-b511d5a813ec')\"\n",
              "              title=\"Convert this dataframe to an interactive table.\"\n",
              "              style=\"display:none;\">\n",
              "        \n",
              "  <svg xmlns=\"http://www.w3.org/2000/svg\" height=\"24px\"viewBox=\"0 0 24 24\"\n",
              "       width=\"24px\">\n",
              "    <path d=\"M0 0h24v24H0V0z\" fill=\"none\"/>\n",
              "    <path d=\"M18.56 5.44l.94 2.06.94-2.06 2.06-.94-2.06-.94-.94-2.06-.94 2.06-2.06.94zm-11 1L8.5 8.5l.94-2.06 2.06-.94-2.06-.94L8.5 2.5l-.94 2.06-2.06.94zm10 10l.94 2.06.94-2.06 2.06-.94-2.06-.94-.94-2.06-.94 2.06-2.06.94z\"/><path d=\"M17.41 7.96l-1.37-1.37c-.4-.4-.92-.59-1.43-.59-.52 0-1.04.2-1.43.59L10.3 9.45l-7.72 7.72c-.78.78-.78 2.05 0 2.83L4 21.41c.39.39.9.59 1.41.59.51 0 1.02-.2 1.41-.59l7.78-7.78 2.81-2.81c.8-.78.8-2.07 0-2.86zM5.41 20L4 18.59l7.72-7.72 1.47 1.35L5.41 20z\"/>\n",
              "  </svg>\n",
              "      </button>\n",
              "      \n",
              "  <style>\n",
              "    .colab-df-container {\n",
              "      display:flex;\n",
              "      flex-wrap:wrap;\n",
              "      gap: 12px;\n",
              "    }\n",
              "\n",
              "    .colab-df-convert {\n",
              "      background-color: #E8F0FE;\n",
              "      border: none;\n",
              "      border-radius: 50%;\n",
              "      cursor: pointer;\n",
              "      display: none;\n",
              "      fill: #1967D2;\n",
              "      height: 32px;\n",
              "      padding: 0 0 0 0;\n",
              "      width: 32px;\n",
              "    }\n",
              "\n",
              "    .colab-df-convert:hover {\n",
              "      background-color: #E2EBFA;\n",
              "      box-shadow: 0px 1px 2px rgba(60, 64, 67, 0.3), 0px 1px 3px 1px rgba(60, 64, 67, 0.15);\n",
              "      fill: #174EA6;\n",
              "    }\n",
              "\n",
              "    [theme=dark] .colab-df-convert {\n",
              "      background-color: #3B4455;\n",
              "      fill: #D2E3FC;\n",
              "    }\n",
              "\n",
              "    [theme=dark] .colab-df-convert:hover {\n",
              "      background-color: #434B5C;\n",
              "      box-shadow: 0px 1px 3px 1px rgba(0, 0, 0, 0.15);\n",
              "      filter: drop-shadow(0px 1px 2px rgba(0, 0, 0, 0.3));\n",
              "      fill: #FFFFFF;\n",
              "    }\n",
              "  </style>\n",
              "\n",
              "      <script>\n",
              "        const buttonEl =\n",
              "          document.querySelector('#df-d9bcd2bd-af71-4b1b-b0c1-b511d5a813ec button.colab-df-convert');\n",
              "        buttonEl.style.display =\n",
              "          google.colab.kernel.accessAllowed ? 'block' : 'none';\n",
              "\n",
              "        async function convertToInteractive(key) {\n",
              "          const element = document.querySelector('#df-d9bcd2bd-af71-4b1b-b0c1-b511d5a813ec');\n",
              "          const dataTable =\n",
              "            await google.colab.kernel.invokeFunction('convertToInteractive',\n",
              "                                                     [key], {});\n",
              "          if (!dataTable) return;\n",
              "\n",
              "          const docLinkHtml = 'Like what you see? Visit the ' +\n",
              "            '<a target=\"_blank\" href=https://colab.research.google.com/notebooks/data_table.ipynb>data table notebook</a>'\n",
              "            + ' to learn more about interactive tables.';\n",
              "          element.innerHTML = '';\n",
              "          dataTable['output_type'] = 'display_data';\n",
              "          await google.colab.output.renderOutput(dataTable, element);\n",
              "          const docLink = document.createElement('div');\n",
              "          docLink.innerHTML = docLinkHtml;\n",
              "          element.appendChild(docLink);\n",
              "        }\n",
              "      </script>\n",
              "    </div>\n",
              "  </div>\n",
              "  "
            ]
          },
          "metadata": {},
          "execution_count": 10
        }
      ]
    },
    {
      "cell_type": "markdown",
      "source": [
        "I think this is correct let me know where I messed up if I did. If y'all ever get to meet my wife remember I told  you all I would still love her if she was a worm. "
      ],
      "metadata": {
        "id": "s0Lpb7rdSyUP"
      }
    }
  ]
}