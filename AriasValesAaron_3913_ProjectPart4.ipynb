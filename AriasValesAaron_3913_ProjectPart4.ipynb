{
  "nbformat": 4,
  "nbformat_minor": 0,
  "metadata": {
    "colab": {
      "provenance": [],
      "authorship_tag": "ABX9TyPf658iLuQg3Bwtc6WdfPjT",
      "include_colab_link": true
    },
    "kernelspec": {
      "name": "python3",
      "display_name": "Python 3"
    },
    "language_info": {
      "name": "python"
    }
  },
  "cells": [
    {
      "cell_type": "markdown",
      "metadata": {
        "id": "view-in-github",
        "colab_type": "text"
      },
      "source": [
        "<a href=\"https://colab.research.google.com/github/AriasVales/DiscreteMathProjects/blob/main/AriasValesAaron_3913_ProjectPart4.ipynb\" target=\"_parent\"><img src=\"https://colab.research.google.com/assets/colab-badge.svg\" alt=\"Open In Colab\"/></a>"
      ]
    },
    {
      "cell_type": "markdown",
      "source": [
        "# Project Part #3 : CPSMA 3913 (Dr. Lynam)\n",
        "Discrete Mathematics\n",
        "\n",
        "# Choices#\n",
        "\n",
        "# A. Arias Vales 278816 #"
      ],
      "metadata": {
        "id": "0hMR6UCFgBty"
      }
    },
    {
      "cell_type": "markdown",
      "source": [
        "My family and I are going on a family trip. My son loves fruit snacks, and we have 15 different flavors in a bag and when he askes, gets to pull 10 pieces every time. "
      ],
      "metadata": {
        "id": "hpbeEV-SF984"
      }
    },
    {
      "cell_type": "code",
      "source": [
        "fruitFlavors = {\"apple\", \"banana\", \"orange\", \"mango\", \"passionfruit\", \"cherry\", \"grape\", \"papaya\", \"bloodorange\", \"grapefruit\", \"tangerine\", \"kiwi\", \"blackberry\", \"raspberry\", \"lemon\"}"
      ],
      "metadata": {
        "id": "ByasjopiGR3y"
      },
      "execution_count": 31,
      "outputs": []
    },
    {
      "cell_type": "markdown",
      "source": [
        "He reaches into the bag to pull his alloted snacks out which can be represented by \n",
        "$$ 15*15*15*15*15\\dots *15 = 15^{10} $$\n",
        "\n",
        "\n",
        "\n"
      ],
      "metadata": {
        "id": "VHXwvWzvG-lj"
      }
    },
    {
      "cell_type": "code",
      "source": [
        "15**10"
      ],
      "metadata": {
        "colab": {
          "base_uri": "https://localhost:8080/"
        },
        "id": "-Qvl5-XGHLGM",
        "outputId": "bcace487-7efb-4831-9ef6-ac4a7dc57d5c"
      },
      "execution_count": 35,
      "outputs": [
        {
          "output_type": "execute_result",
          "data": {
            "text/plain": [
              "576650390625"
            ]
          },
          "metadata": {},
          "execution_count": 35
        }
      ]
    },
    {
      "cell_type": "markdown",
      "source": [
        "we have 10 pieces with 5 different flavors\n",
        "$$\n",
        "\\binom{n+k-1}{k-1} = \\binom{n+k-1}{n}\n",
        "$$"
      ],
      "metadata": {
        "id": "MGG2JYZDH9ce"
      }
    },
    {
      "cell_type": "code",
      "source": [
        "order_matters = math.factorial(15) // (math.factorial(15 - 10))\n",
        "print(\"Outcomes with order mattering:\", order_matters)\n"
      ],
      "metadata": {
        "colab": {
          "base_uri": "https://localhost:8080/"
        },
        "id": "m5GSYPDDIasf",
        "outputId": "0a0726a6-21ec-460d-8413-8bb721809e4a"
      },
      "execution_count": 33,
      "outputs": [
        {
          "output_type": "stream",
          "name": "stdout",
          "text": [
            "Outcomes with order mattering: 10897286400\n"
          ]
        }
      ]
    },
    {
      "cell_type": "markdown",
      "source": [
        "That narrowed quickly. so we went from 576,650,390,625 different combinations down to just 10,897,286,400. "
      ],
      "metadata": {
        "id": "jHP2Io_wRBOo"
      }
    },
    {
      "cell_type": "code",
      "source": [
        "# (a) Outcomes with order mattering\n",
        "order_matters = math.factorial(15) // (math.factorial(15 - 10))\n",
        "print(\"Outcomes with order mattering:\", order_matters)"
      ],
      "metadata": {
        "colab": {
          "base_uri": "https://localhost:8080/"
        },
        "id": "FmcXBWYXRBCK",
        "outputId": "e1c68a59-09c9-495f-fc4a-73dc8eb74c17"
      },
      "execution_count": 46,
      "outputs": [
        {
          "output_type": "stream",
          "name": "stdout",
          "text": [
            "Outcomes with order mattering: 10897286400\n"
          ]
        }
      ]
    },
    {
      "cell_type": "code",
      "source": [
        "# (b) Outcomes with order not mattering\n",
        "order_not_matters = math.comb(15, 10)\n",
        "print(\"Outcomes with order not mattering:\", order_not_matters)"
      ],
      "metadata": {
        "colab": {
          "base_uri": "https://localhost:8080/"
        },
        "id": "X9_7BDbYUj_r",
        "outputId": "d2c5e8ff-e29c-4f8e-af9a-d3a4ced0f6d3"
      },
      "execution_count": 47,
      "outputs": [
        {
          "output_type": "stream",
          "name": "stdout",
          "text": [
            "Outcomes with order not mattering: 3003\n"
          ]
        }
      ]
    },
    {
      "cell_type": "code",
      "source": [
        "# (c) Outcomes with no repeat, order mattering\n",
        "no_repeat_order_matters = math.factorial(15) // (math.factorial(15 - 10))\n",
        "print(\"Outcomes with no repeat and order mattering:\", no_repeat_order_matters)"
      ],
      "metadata": {
        "colab": {
          "base_uri": "https://localhost:8080/"
        },
        "id": "9w0X20Z2UsU9",
        "outputId": "747a8e1f-7066-4ea3-e29a-cc8b3dce93c3"
      },
      "execution_count": 49,
      "outputs": [
        {
          "output_type": "stream",
          "name": "stdout",
          "text": [
            "Outcomes with no repeat and order mattering: 10897286400\n"
          ]
        }
      ]
    },
    {
      "cell_type": "code",
      "source": [
        "# (c) Outcomes with no repeat, order not mattering\n",
        "no_repeat_order_not_matters = math.comb(15, 10)\n",
        "print(\"Outcomes with no repeat and order not mattering:\", no_repeat_order_not_matters)\n"
      ],
      "metadata": {
        "colab": {
          "base_uri": "https://localhost:8080/"
        },
        "id": "syjko5ziVtje",
        "outputId": "3beae9e7-0847-4d50-fd86-68ad548b81ae"
      },
      "execution_count": 50,
      "outputs": [
        {
          "output_type": "stream",
          "name": "stdout",
          "text": [
            "Outcomes with no repeat and order not mattering: 3003\n"
          ]
        }
      ]
    },
    {
      "cell_type": "code",
      "source": [
        "# (d) Coefficient of 5th order of (x-3)^9\n",
        "coefficient = (-3)**(9 - 5) * math.comb(9, 5)\n",
        "print(\"Coefficient of 5th order of (x-3)^9:\", coefficient)"
      ],
      "metadata": {
        "colab": {
          "base_uri": "https://localhost:8080/"
        },
        "id": "rAY4aRIaUxSr",
        "outputId": "efeabef3-9e74-45f4-ef54-0df77b213474"
      },
      "execution_count": 52,
      "outputs": [
        {
          "output_type": "stream",
          "name": "stdout",
          "text": [
            "Coefficient of 5th order of (x-3)^9: 10206\n"
          ]
        }
      ]
    },
    {
      "cell_type": "markdown",
      "source": [
        "So looking at this I believe this is all correct but I could be worng.....\n",
        "This is easier to do in code versus on paper because of the length it would take for calculations.  The python code allows us to use it similiar to a calculator. The different outcomes correspond to different combinations or permutations of the fruit snacks in the bag.\n",
        "\n",
        "(a) The \"order mattering\" outcome counts all possible sequences of 10 fruit snacks that can be picked from the bag, considering the order of the fruit snacks in the sequence as important.\n",
        "\n",
        "(b) The \"order not mattering\" outcome counts all possible combinations of 10 fruit snacks that can be picked from the bag, without considering the order of the fruit snacks in the combination.\n",
        "\n",
        "(c) The \"no repeat, order mattering\" outcome counts all possible sequences of 10 fruit snacks that can be picked from the bag, without repeat, and considering the order of the fruit snacks in the sequence as important.\n",
        "\n",
        "(c) The \"no repeat, order not mattering\" outcome counts all possible combinations of 10 fruit snacks that can be picked from the bag, without repeat, and without considering the order of the fruit snacks in the combination.\n",
        "\n",
        "Therefore, the different combinations and permutations lead to different outcomes, which is why each one results in a different number."
      ],
      "metadata": {
        "id": "sftKNnkUV1eI"
      }
    }
  ]
}