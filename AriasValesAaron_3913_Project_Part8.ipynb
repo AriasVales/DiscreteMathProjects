{
  "nbformat": 4,
  "nbformat_minor": 0,
  "metadata": {
    "colab": {
      "provenance": [],
      "authorship_tag": "ABX9TyMENNuFajURWgS+xetIcuWF",
      "include_colab_link": true
    },
    "kernelspec": {
      "name": "python3",
      "display_name": "Python 3"
    },
    "language_info": {
      "name": "python"
    }
  },
  "cells": [
    {
      "cell_type": "markdown",
      "metadata": {
        "id": "view-in-github",
        "colab_type": "text"
      },
      "source": [
        "<a href=\"https://colab.research.google.com/github/AriasVales/DiscreteMathProjects/blob/main/AriasValesAaron_3913_Project_Part8.ipynb\" target=\"_parent\"><img src=\"https://colab.research.google.com/assets/colab-badge.svg\" alt=\"Open In Colab\"/></a>"
      ]
    },
    {
      "cell_type": "markdown",
      "source": [
        "# Project Part # 8: CPSMA 3913 (Dr. Lynam)\n",
        "Discrete Mathematics\n",
        "A. Arias Vales 278816"
      ],
      "metadata": {
        "id": "Nlo-_8jt2QOJ"
      }
    },
    {
      "cell_type": "markdown",
      "source": [
        "To plot the graph of the linear equation y = mx + b, we can use the Matplotlib library in Python. Here is an example code that generates the plot for y = 2x + 3"
      ],
      "metadata": {
        "id": "GOnrJJs_27ZW"
      }
    },
    {
      "cell_type": "code",
      "execution_count": 1,
      "metadata": {
        "colab": {
          "base_uri": "https://localhost:8080/",
          "height": 295
        },
        "id": "44zFNtb72PeJ",
        "outputId": "6e0ecde4-8bf0-4d8f-97b7-3134997bc75a"
      },
      "outputs": [
        {
          "output_type": "display_data",
          "data": {
            "text/plain": [
              "<Figure size 432x288 with 1 Axes>"
            ],
            "image/png": "[encoded data removed]"
          },
          "metadata": {
            "needs_background": "light"
          }
        }
      ],
      "source": [
        "import matplotlib.pyplot as plt\n",
        "\n",
        "m = 2\n",
        "b = 3\n",
        "\n",
        "x = range(-10, 11) # x values from -10 to 10\n",
        "y = [m*i + b for i in x] # calculate y values using the equation\n",
        "\n",
        "plt.plot(x, y) # plot the line\n",
        "plt.xlabel('x')\n",
        "plt.ylabel('y')\n",
        "plt.title('Linear Equation')\n",
        "plt.grid(True)\n",
        "plt.axhline(y=0, color='black') # add x-axis\n",
        "plt.axvline(x=0, color='black') # add y-axis\n",
        "plt.show() # display the plot\n"
      ]
    },
    {
      "cell_type": "markdown",
      "source": [
        "To prove that (0, b) is the y-intercept for the function y = mx + b, we can write a function that takes in the values of m and b, and checks if the y-intercept is (0, b). Here's the code for the proof"
      ],
      "metadata": {
        "id": "OFtrCdro3LSS"
      }
    },
    {
      "cell_type": "code",
      "source": [
        "def check_y_intercept(m, b):\n",
        "    y_intercept = (0, b)\n",
        "    if (m*0 + b) == y_intercept[1]:\n",
        "        return True\n",
        "    else:\n",
        "        return False\n",
        "\n",
        "# Test the function\n",
        "m = 2\n",
        "b = 3\n",
        "if check_y_intercept(m, b):\n",
        "    print(f\"The point (0, {b}) is the y-intercept for y = {m}x + {b}\")\n",
        "else:\n",
        "    print(\"The function does not have (0, b) as its y-intercept\")"
      ],
      "metadata": {
        "colab": {
          "base_uri": "https://localhost:8080/"
        },
        "id": "whmlJYEd3RtI",
        "outputId": "d84feb9e-d444-44b7-f3d9-cdbeb7048f3a"
      },
      "execution_count": 6,
      "outputs": [
        {
          "output_type": "stream",
          "name": "stdout",
          "text": [
            "The point (0, 3) is the y-intercept for y = 2x + 3\n"
          ]
        }
      ]
    }
  ]
}